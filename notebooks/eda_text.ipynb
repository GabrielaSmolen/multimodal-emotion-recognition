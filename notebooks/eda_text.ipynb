{
 "cells": [
  {
   "cell_type": "code",
   "execution_count": 29,
   "metadata": {
    "collapsed": true,
    "ExecuteTime": {
     "end_time": "2023-08-15T10:49:02.548512800Z",
     "start_time": "2023-08-15T10:49:02.540892600Z"
    }
   },
   "outputs": [],
   "source": [
    "import pandas as pd\n",
    "import seaborn as sns\n",
    "from transformers import pipeline"
   ]
  },
  {
   "cell_type": "code",
   "execution_count": null,
   "outputs": [],
   "source": [
    "emotion = pipeline('sentiment-analysis', model='arpanghoshal/EmoRoBERTa')"
   ],
   "metadata": {
    "collapsed": false
   }
  },
  {
   "cell_type": "code",
   "execution_count": 38,
   "outputs": [],
   "source": [
    "df = pd.read_csv(\"C:/Users/Gabi/PycharmProjects/multimodal-emotion-recognition/text_data.csv\")"
   ],
   "metadata": {
    "collapsed": false,
    "ExecuteTime": {
     "end_time": "2023-08-15T10:51:08.717631200Z",
     "start_time": "2023-08-15T10:51:08.704761900Z"
    }
   }
  },
  {
   "cell_type": "code",
   "execution_count": 39,
   "outputs": [
    {
     "data": {
      "text/plain": "  emotion                                           sentence\n0     neu   Well how long will it last us, this ludicrous...\n1     ang                What.  Welcome to the human race.\\n\n2     neu                                   Because it is.\\n\n3     sad                                    How are they?\\n\n4     neu    Well maybe...maybe he just wanted to see her.\\n",
      "text/html": "<div>\n<style scoped>\n    .dataframe tbody tr th:only-of-type {\n        vertical-align: middle;\n    }\n\n    .dataframe tbody tr th {\n        vertical-align: top;\n    }\n\n    .dataframe thead th {\n        text-align: right;\n    }\n</style>\n<table border=\"1\" class=\"dataframe\">\n  <thead>\n    <tr style=\"text-align: right;\">\n      <th></th>\n      <th>emotion</th>\n      <th>sentence</th>\n    </tr>\n  </thead>\n  <tbody>\n    <tr>\n      <th>0</th>\n      <td>neu</td>\n      <td>Well how long will it last us, this ludicrous...</td>\n    </tr>\n    <tr>\n      <th>1</th>\n      <td>ang</td>\n      <td>What.  Welcome to the human race.\\n</td>\n    </tr>\n    <tr>\n      <th>2</th>\n      <td>neu</td>\n      <td>Because it is.\\n</td>\n    </tr>\n    <tr>\n      <th>3</th>\n      <td>sad</td>\n      <td>How are they?\\n</td>\n    </tr>\n    <tr>\n      <th>4</th>\n      <td>neu</td>\n      <td>Well maybe...maybe he just wanted to see her.\\n</td>\n    </tr>\n  </tbody>\n</table>\n</div>"
     },
     "execution_count": 39,
     "metadata": {},
     "output_type": "execute_result"
    }
   ],
   "source": [
    "df.head()"
   ],
   "metadata": {
    "collapsed": false,
    "ExecuteTime": {
     "end_time": "2023-08-15T10:51:09.288186400Z",
     "start_time": "2023-08-15T10:51:09.278644600Z"
    }
   }
  },
  {
   "cell_type": "code",
   "execution_count": 40,
   "outputs": [
    {
     "data": {
      "text/plain": "emotion\nneu    2000\nang    2000\nsad    2000\nhap    2000\nfru    2000\nexc    2000\nName: count, dtype: int64"
     },
     "execution_count": 40,
     "metadata": {},
     "output_type": "execute_result"
    }
   ],
   "source": [
    "df['emotion'].value_counts()"
   ],
   "metadata": {
    "collapsed": false,
    "ExecuteTime": {
     "end_time": "2023-08-15T10:51:10.767260800Z",
     "start_time": "2023-08-15T10:51:10.758650700Z"
    }
   }
  },
  {
   "cell_type": "code",
   "execution_count": 41,
   "outputs": [
    {
     "data": {
      "text/plain": "<Axes: xlabel='emotion', ylabel='count'>"
     },
     "execution_count": 41,
     "metadata": {},
     "output_type": "execute_result"
    },
    {
     "data": {
      "text/plain": "<Figure size 640x480 with 1 Axes>",
      "image/png": "[encoded data removed]"
     },
     "metadata": {},
     "output_type": "display_data"
    }
   ],
   "source": [
    "sns.countplot(x='emotion',data=df)"
   ],
   "metadata": {
    "collapsed": false,
    "ExecuteTime": {
     "end_time": "2023-08-15T10:51:11.565528800Z",
     "start_time": "2023-08-15T10:51:11.473784500Z"
    }
   }
  },
  {
   "cell_type": "code",
   "execution_count": 42,
   "outputs": [
    {
     "data": {
      "text/plain": "(12000, 2)"
     },
     "execution_count": 42,
     "metadata": {},
     "output_type": "execute_result"
    }
   ],
   "source": [
    "df.shape"
   ],
   "metadata": {
    "collapsed": false,
    "ExecuteTime": {
     "end_time": "2023-08-15T10:51:12.499992Z",
     "start_time": "2023-08-15T10:51:12.494529500Z"
    }
   }
  },
  {
   "cell_type": "code",
   "execution_count": 43,
   "outputs": [
    {
     "data": {
      "text/plain": "  emotion                                           sentence\n0     neu   Well how long will it last us, this ludicrous...\n1     ang                What.  Welcome to the human race.\\n\n2     neu                                   Because it is.\\n\n3     sad                                    How are they?\\n\n4     neu    Well maybe...maybe he just wanted to see her.\\n",
      "text/html": "<div>\n<style scoped>\n    .dataframe tbody tr th:only-of-type {\n        vertical-align: middle;\n    }\n\n    .dataframe tbody tr th {\n        vertical-align: top;\n    }\n\n    .dataframe thead th {\n        text-align: right;\n    }\n</style>\n<table border=\"1\" class=\"dataframe\">\n  <thead>\n    <tr style=\"text-align: right;\">\n      <th></th>\n      <th>emotion</th>\n      <th>sentence</th>\n    </tr>\n  </thead>\n  <tbody>\n    <tr>\n      <th>0</th>\n      <td>neu</td>\n      <td>Well how long will it last us, this ludicrous...</td>\n    </tr>\n    <tr>\n      <th>1</th>\n      <td>ang</td>\n      <td>What.  Welcome to the human race.\\n</td>\n    </tr>\n    <tr>\n      <th>2</th>\n      <td>neu</td>\n      <td>Because it is.\\n</td>\n    </tr>\n    <tr>\n      <th>3</th>\n      <td>sad</td>\n      <td>How are they?\\n</td>\n    </tr>\n    <tr>\n      <th>4</th>\n      <td>neu</td>\n      <td>Well maybe...maybe he just wanted to see her.\\n</td>\n    </tr>\n  </tbody>\n</table>\n</div>"
     },
     "execution_count": 43,
     "metadata": {},
     "output_type": "execute_result"
    }
   ],
   "source": [
    "df.head()"
   ],
   "metadata": {
    "collapsed": false,
    "ExecuteTime": {
     "end_time": "2023-08-15T10:51:13.361957Z",
     "start_time": "2023-08-15T10:51:13.358239100Z"
    }
   }
  },
  {
   "cell_type": "code",
   "execution_count": 44,
   "outputs": [
    {
     "data": {
      "text/plain": "1      [{'label': 'joy', 'score': 0.8079372644424438}]\n2    [{'label': 'neutral', 'score': 0.9899142980575...\n3    [{'label': 'curiosity', 'score': 0.86101001501...\n4    [{'label': 'neutral', 'score': 0.9956365227699...\n5    [{'label': 'approval', 'score': 0.975653707981...\n6    [{'label': 'remorse', 'score': 0.5955021977424...\n7    [{'label': 'curiosity', 'score': 0.99158245325...\n8    [{'label': 'disapproval', 'score': 0.800700128...\n9    [{'label': 'neutral', 'score': 0.9969061017036...\nName: sentence, dtype: object"
     },
     "execution_count": 44,
     "metadata": {},
     "output_type": "execute_result"
    }
   ],
   "source": [
    "df['sentence'][1:10].apply(emotion)"
   ],
   "metadata": {
    "collapsed": false,
    "ExecuteTime": {
     "end_time": "2023-08-15T10:51:16.127101500Z",
     "start_time": "2023-08-15T10:51:14.835865800Z"
    }
   }
  },
  {
   "cell_type": "code",
   "execution_count": null,
   "outputs": [],
   "source": [
    "df_short = df[:1000]"
   ],
   "metadata": {
    "collapsed": false
   }
  },
  {
   "cell_type": "code",
   "execution_count": null,
   "outputs": [],
   "source": [
    "df_short.shape"
   ],
   "metadata": {
    "collapsed": false
   }
  },
  {
   "cell_type": "code",
   "execution_count": null,
   "outputs": [],
   "source": [
    "def get_emotion_label(text):\n",
    "  return emotion(text)[0]['label']"
   ],
   "metadata": {
    "collapsed": false
   }
  },
  {
   "cell_type": "code",
   "execution_count": null,
   "outputs": [],
   "source": [],
   "metadata": {
    "collapsed": false
   }
  },
  {
   "cell_type": "code",
   "execution_count": 50,
   "outputs": [
    {
     "name": "stderr",
     "output_type": "stream",
     "text": [
      "C:\\Users\\Gabi\\AppData\\Local\\Temp\\ipykernel_22020\\1085652147.py:1: SettingWithCopyWarning: \n",
      "A value is trying to be set on a copy of a slice from a DataFrame.\n",
      "Try using .loc[row_indexer,col_indexer] = value instead\n",
      "\n",
      "See the caveats in the documentation: https://pandas.pydata.org/pandas-docs/stable/user_guide/indexing.html#returning-a-view-versus-a-copy\n",
      "  df_short['emotion'] = df_short['sentence'].apply(get_emotion_label)\n"
     ]
    }
   ],
   "source": [
    "df_short['emotion'] = df_short['sentence'].apply(get_emotion_label)"
   ],
   "metadata": {
    "collapsed": false,
    "ExecuteTime": {
     "end_time": "2023-08-15T11:05:55.385552200Z",
     "start_time": "2023-08-15T11:03:22.251226900Z"
    }
   }
  },
  {
   "cell_type": "code",
   "execution_count": 51,
   "outputs": [
    {
     "data": {
      "text/plain": "         emotion                                           sentence\n0           love   Well how long will it last us, this ludicrous...\n1            joy                What.  Welcome to the human race.\\n\n2        neutral                                   Because it is.\\n\n3      curiosity                                    How are they?\\n\n4        neutral    Well maybe...maybe he just wanted to see her.\\n\n..           ...                                                ...\n995  disapproval                              I don't have those-\\n\n996      neutral                                   Buy some hats?\\n\n997    curiosity   And-And-And if you go on from there if you kn...\n998      neutral                                               Oh\\n\n999      sadness      I have no choice. There's nothing I can do.\\n\n\n[1000 rows x 2 columns]",
      "text/html": "<div>\n<style scoped>\n    .dataframe tbody tr th:only-of-type {\n        vertical-align: middle;\n    }\n\n    .dataframe tbody tr th {\n        vertical-align: top;\n    }\n\n    .dataframe thead th {\n        text-align: right;\n    }\n</style>\n<table border=\"1\" class=\"dataframe\">\n  <thead>\n    <tr style=\"text-align: right;\">\n      <th></th>\n      <th>emotion</th>\n      <th>sentence</th>\n    </tr>\n  </thead>\n  <tbody>\n    <tr>\n      <th>0</th>\n      <td>love</td>\n      <td>Well how long will it last us, this ludicrous...</td>\n    </tr>\n    <tr>\n      <th>1</th>\n      <td>joy</td>\n      <td>What.  Welcome to the human race.\\n</td>\n    </tr>\n    <tr>\n      <th>2</th>\n      <td>neutral</td>\n      <td>Because it is.\\n</td>\n    </tr>\n    <tr>\n      <th>3</th>\n      <td>curiosity</td>\n      <td>How are they?\\n</td>\n    </tr>\n    <tr>\n      <th>4</th>\n      <td>neutral</td>\n      <td>Well maybe...maybe he just wanted to see her.\\n</td>\n    </tr>\n    <tr>\n      <th>...</th>\n      <td>...</td>\n      <td>...</td>\n    </tr>\n    <tr>\n      <th>995</th>\n      <td>disapproval</td>\n      <td>I don't have those-\\n</td>\n    </tr>\n    <tr>\n      <th>996</th>\n      <td>neutral</td>\n      <td>Buy some hats?\\n</td>\n    </tr>\n    <tr>\n      <th>997</th>\n      <td>curiosity</td>\n      <td>And-And-And if you go on from there if you kn...</td>\n    </tr>\n    <tr>\n      <th>998</th>\n      <td>neutral</td>\n      <td>Oh\\n</td>\n    </tr>\n    <tr>\n      <th>999</th>\n      <td>sadness</td>\n      <td>I have no choice. There's nothing I can do.\\n</td>\n    </tr>\n  </tbody>\n</table>\n<p>1000 rows × 2 columns</p>\n</div>"
     },
     "execution_count": 51,
     "metadata": {},
     "output_type": "execute_result"
    }
   ],
   "source": [
    "df_short"
   ],
   "metadata": {
    "collapsed": false,
    "ExecuteTime": {
     "end_time": "2023-08-15T11:05:55.406579Z",
     "start_time": "2023-08-15T11:05:55.402109200Z"
    }
   }
  },
  {
   "cell_type": "code",
   "execution_count": null,
   "outputs": [],
   "source": [],
   "metadata": {
    "collapsed": false
   }
  }
 ],
 "metadata": {
  "kernelspec": {
   "display_name": "Python 3",
   "language": "python",
   "name": "python3"
  },
  "language_info": {
   "codemirror_mode": {
    "name": "ipython",
    "version": 2
   },
   "file_extension": ".py",
   "mimetype": "text/x-python",
   "name": "python",
   "nbconvert_exporter": "python",
   "pygments_lexer": "ipython2",
   "version": "2.7.6"
  }
 },
 "nbformat": 4,
 "nbformat_minor": 0
}
